{
  "nbformat": 4,
  "nbformat_minor": 0,
  "metadata": {
    "colab": {
      "name": "Pizza.",
      "provenance": [],
      "authorship_tag": "ABX9TyPfDKC45hUrQw27DdQDy09a",
      "include_colab_link": true
    },
    "kernelspec": {
      "name": "python3",
      "display_name": "Python 3"
    },
    "language_info": {
      "name": "python"
    }
  },
  "cells": [
    {
      "cell_type": "markdown",
      "metadata": {
        "id": "view-in-github",
        "colab_type": "text"
      },
      "source": [
        "<a href=\"https://colab.research.google.com/github/Zanquim/Buscando_dolar/blob/main/Pizza_.ipynb\" target=\"_parent\"><img src=\"https://colab.research.google.com/assets/colab-badge.svg\" alt=\"Open In Colab\"/></a>"
      ]
    },
    {
      "cell_type": "code",
      "metadata": {
        "colab": {
          "base_uri": "https://localhost:8080/"
        },
        "id": "371E2nIf63qF",
        "outputId": "f707903b-109b-4add-91d4-665b4eab3ed6"
      },
      "source": [
        "#print('Fale três sabores de pizza')\n",
        "#print()\n",
        "#pc = []\n",
        "#p1 = input(f'\\nQual o seu sabor favorito de pizza ?\\t')\n",
        "#p2 = input(f'\\nQual o seu sabor favorito de pizza ?\\t')\n",
        "#p3 = input(f'\\nQual o seu sabor favorito de pizza ?\\t')\n",
        "\n",
        "\n",
        "#p1L = p1.lower()\n",
        "#p2L = p2.lower()\n",
        "#p3L = p3.lower()\n",
        "#pc.append(p1L)\n",
        "#pc.append(p2L)\n",
        "#pc.append(p3L)\n",
        "#print()\n",
        "#print('\\n' + str(pc) + \", eu amo essas pizzas\")\n",
        "#print(\"\\nSão as melhores de todas \" + str(pc) +\".\")\n",
        "\n",
        "\n",
        "\n"
      ],
      "execution_count": null,
      "outputs": [
        {
          "output_type": "stream",
          "text": [
            "[1, 4, 9, 16, 25, 36, 49, 64, 81, 100]\n"
          ],
          "name": "stdout"
        }
      ]
    }
  ]
}